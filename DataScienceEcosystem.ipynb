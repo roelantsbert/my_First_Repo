{
 "cells": [
  {
   "cell_type": "markdown",
   "id": "4d47e25a-adab-4afd-990a-66b6c172bd23",
   "metadata": {},
   "source": [
    "# Data Science Tools and Ecosystem"
   ]
  },
  {
   "cell_type": "markdown",
   "id": "c937e718-cb83-4ef7-8837-d265227e922a",
   "metadata": {},
   "source": [
    "In this notebook, Data Science Tools and Ecosystem are summarized."
   ]
  },
  {
   "cell_type": "markdown",
   "id": "349185c0-cd4c-44d3-aee4-68b75bcb1585",
   "metadata": {},
   "source": [
    "Objectives:\n",
    "* List popular languages for Data Science\n",
    "* List commonly used libraries used by Data Scientists\n",
    "* Create table containing Data Science Tools\n",
    "* Execute basic code calculations\n",
    "* Convert minutes to Hours"
   ]
  },
  {
   "cell_type": "markdown",
   "id": "619f078d-d98a-48dc-b925-586d027177ad",
   "metadata": {},
   "source": [
    "Some of the popular languages that Data Scientists use are:\n",
    " 1. Python\n",
    " 2. R\n",
    " 3. Julia\n",
    " 4. SQL\n",
    " 5. C++\n",
    " 6. Java"
   ]
  },
  {
   "cell_type": "markdown",
   "id": "10b8b301-a372-4f20-9818-f93b47f5f628",
   "metadata": {
    "tags": []
   },
   "source": [
    "Some of the commonly used libraries used by Data Scientists include:\n",
    "1. Matplotlib\n",
    "2. NumPy\n",
    "3. Pandas\n",
    "4. Plotly"
   ]
  },
  {
   "cell_type": "markdown",
   "id": "e8f48ac5-cb2c-4f57-9692-68c198d5a15d",
   "metadata": {
    "tags": []
   },
   "source": [
    "| Data Science Tools |\n",
    "|:--|\n",
    "| Apache Spark |\n",
    "| Scikit-learn |\n",
    "| Apache Hadoop |"
   ]
  },
  {
   "cell_type": "markdown",
   "id": "dd534fd4-94f4-4ca7-b140-9bf680ed8ca9",
   "metadata": {},
   "source": [
    "### Below are a few examples of evaluating arithmetic expressions in Python"
   ]
  },
  {
   "cell_type": "code",
   "execution_count": 10,
   "id": "6e97d454-aae9-43d0-b85d-9cf54b5dc83b",
   "metadata": {
    "tags": []
   },
   "outputs": [
    {
     "data": {
      "text/plain": [
       "17"
      ]
     },
     "execution_count": 10,
     "metadata": {},
     "output_type": "execute_result"
    }
   ],
   "source": [
    "#This a simple arithmetic expression to mutiply then add integers\n",
    "(3*4)+5"
   ]
  },
  {
   "cell_type": "code",
   "execution_count": 12,
   "id": "2198a1f1-9284-4466-8fac-8bce7bb60a86",
   "metadata": {
    "tags": []
   },
   "outputs": [
    {
     "data": {
      "text/plain": [
       "3.3333333333333335"
      ]
     },
     "execution_count": 12,
     "metadata": {},
     "output_type": "execute_result"
    }
   ],
   "source": [
    "#This will convert 200 minutes to hours by diving by 60\n",
    "minutes = 200\n",
    "hours = minutes/60\n",
    "hours"
   ]
  },
  {
   "cell_type": "markdown",
   "id": "26ad6afc-838b-44db-b795-dcf4093d66f8",
   "metadata": {},
   "source": [
    "## Author\n",
    "Bert R. "
   ]
  },
  {
   "cell_type": "code",
   "execution_count": null,
   "id": "90b3a3d1-c2da-4385-853e-edfff6c2314f",
   "metadata": {},
   "outputs": [],
   "source": []
  }
 ],
 "metadata": {
  "kernelspec": {
   "display_name": "Python",
   "language": "python",
   "name": "conda-env-python-py"
  },
  "language_info": {
   "codemirror_mode": {
    "name": "ipython",
    "version": 3
   },
   "file_extension": ".py",
   "mimetype": "text/x-python",
   "name": "python",
   "nbconvert_exporter": "python",
   "pygments_lexer": "ipython3",
   "version": "3.7.12"
  }
 },
 "nbformat": 4,
 "nbformat_minor": 5
}
